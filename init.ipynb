{
 "cells": [
  {
   "cell_type": "code",
   "execution_count": null,
   "metadata": {
    "scrolled": false
   },
   "outputs": [],
   "source": [
    "import pandas as pd\n",
    "import os\n",
    "import sqlite3\n",
    "\n",
    "#base de datos\n",
    "ruta = os.getcwd()\n",
    "pathdb=(f\"{ruta}/zoo_database0.db\")\n",
    "conexion = sqlite3.connect(pathdb)\n",
    "cursor = conexion.cursor()\n",
    "\n",
    "pathx=(f\"{ruta}/datos.xlsx\")\n",
    "path=(f\"{ruta}/datos.json\")\n",
    "dfx = pd.read_excel(pathx)\n",
    "df = pd.read_json(path)\n",
    "\n",
    "result = pd.concat([df, dfx], ignore_index=True)\n",
    "result\n"
   ]
  },
  {
   "cell_type": "code",
   "execution_count": null,
   "metadata": {},
   "outputs": [],
   "source": [
    "\n",
    "#Filtro de datos\n",
    "encargado = result[[\"RUT_ENCARGADO\", \"NOMBRE_ENCARGADO\",\"APELLIDO_ENCARGADO\",\"SEXO_ENCARGADO\"]]\n",
    "encargado\n"
   ]
  },
  {
   "cell_type": "code",
   "execution_count": null,
   "metadata": {},
   "outputs": [],
   "source": [
    "#Eliminamos la columna que no necesitamos\n",
    "encargado.drop(columns=['SEXO_ENCARGADO'], inplace=True)\n",
    "encargado"
   ]
  },
  {
   "cell_type": "code",
   "execution_count": null,
   "metadata": {},
   "outputs": [],
   "source": [
    "continente = result[[\"ID_CONTINENTE\",\"NOMBRE_CONTINENTE\"]]\n",
    "continente\n"
   ]
  },
  {
   "cell_type": "code",
   "execution_count": null,
   "metadata": {},
   "outputs": [],
   "source": [
    "#visualizar datos que son duplicados\n",
    "\n",
    "continente[continente.duplicated()]\n"
   ]
  },
  {
   "cell_type": "code",
   "execution_count": null,
   "metadata": {},
   "outputs": [],
   "source": [
    "#Borramos datos duplicados\n",
    "\n",
    "continente.drop_duplicates(inplace=True)\n",
    "continente"
   ]
  },
  {
   "cell_type": "code",
   "execution_count": null,
   "metadata": {},
   "outputs": [],
   "source": [
    "pais = result[[\"ID_PAIS\",\"NOMBRE_PAIS\",\"ID_CONTINENTE\"]]\n",
    "pais"
   ]
  },
  {
   "cell_type": "code",
   "execution_count": null,
   "metadata": {},
   "outputs": [],
   "source": [
    "ciudad = result[[\"ID_CIUDAD\",\"NOMBRE_CIUDAD\",\"ID_PAIS\"]]\n",
    "ciudad\n"
   ]
  },
  {
   "cell_type": "code",
   "execution_count": null,
   "metadata": {},
   "outputs": [],
   "source": [
    "familia = result[[\"ID_FAMILIA\",\"NOMBRE_FAMILIA\"]]\n",
    "familia"
   ]
  },
  {
   "cell_type": "code",
   "execution_count": null,
   "metadata": {},
   "outputs": [],
   "source": [
    "familia[familia.duplicated()]"
   ]
  },
  {
   "cell_type": "code",
   "execution_count": null,
   "metadata": {},
   "outputs": [],
   "source": [
    "familia[\"NOMBRE_FAMILIA\"] = familia[\"NOMBRE_FAMILIA\"].str.strip()\n",
    "familia.drop_duplicates(inplace=True)\n",
    "familia"
   ]
  },
  {
   "cell_type": "code",
   "execution_count": null,
   "metadata": {},
   "outputs": [],
   "source": [
    "especie = result[[\"ID_ESPECIE\",\"NOMBRE_ESPECIE\",\"ID_FAMILIA\"]]\n",
    "especie"
   ]
  },
  {
   "cell_type": "code",
   "execution_count": null,
   "metadata": {},
   "outputs": [],
   "source": [
    "zoologico = result[[\"ID_ZOOLOGICO\",\"NOMBRE_ZOOLOGICO\",\"TAMANO_ZOOLOGICO\",\"PRESUPUESTO_ANUAL\",\"RUT_ENCARGADO\",\"ID_CIUDAD\"]]\n",
    "zoologico"
   ]
  },
  {
   "cell_type": "code",
   "execution_count": null,
   "metadata": {},
   "outputs": [],
   "source": [
    "animal = result[[\"N_IDENTIFICACION\",\"NOMBRE_ANIMAL\",\"NOMBRE_CIENTIFICO\",\"ESTATUS_CONSERVACION\",\"SEXO_ANIMAL\",\"ANIO_NACIMIENTO\",\"PESO_ANIMAL\",\"ALTURA_ANIMAL\",\"ID_ESPECIE\",\"ID_PAIS\",\"ID_ZOOLOGICO\"]]\n",
    "animal"
   ]
  },
  {
   "cell_type": "code",
   "execution_count": null,
   "metadata": {},
   "outputs": [],
   "source": [
    "#Eliminamos la columna que no necesitamos\n",
    "animal.drop(columns=['PESO_ANIMAL','ALTURA_ANIMAL'], inplace=True)\n",
    "animal"
   ]
  },
  {
   "cell_type": "code",
   "execution_count": null,
   "metadata": {},
   "outputs": [],
   "source": [
    "pais_continente = result[[\"ID_CONT_PAIS\",\"ID_PAIS\",\"ID_CONTINENTE\"]]\n",
    "pais_continente"
   ]
  },
  {
   "cell_type": "code",
   "execution_count": null,
   "metadata": {},
   "outputs": [],
   "source": [
    "encargado.to_sql('ENCARGADO', conexion, if_exists='append', index=False)\n",
    "continente.to_sql('CONTINENTE', conexion, if_exists='append', index=False)\n",
    "familia.to_sql('FAMILIA', conexion, if_exists='append', index=False)\n",
    "pais.to_sql('PAIS', conexion, if_exists='append', index=False)\n",
    "ciudad.to_sql('CIUDAD', conexion, if_exists='append', index=False)\n",
    "especie.to_sql('ESPECIE', conexion, if_exists='append', index=False)\n",
    "animal.to_sql('ANIMAL', conexion, if_exists='append', index=False)\n",
    "zoologico.to_sql('ZOOLOGICO', conexion, if_exists='append', index=False)\n",
    "pais_continente.to_sql('PAIS_CONTINENTE', conexion, if_exists='append', index=False)\n"
   ]
  },
  {
   "cell_type": "code",
   "execution_count": null,
   "metadata": {},
   "outputs": [],
   "source": [
    "query = \"SELECT count() as CANTIDAD FROM ANIMAL\"\n",
    "print(\"************ LA CANTIDAD DE ANIMALES RESGISTRADOS EN EL SISTEMA ES*************\")\n",
    "print(pd.read_sql_query(query, conexion))\n",
    "print(\"*************************************************\")"
   ]
  },
  {
   "cell_type": "code",
   "execution_count": null,
   "metadata": {},
   "outputs": [],
   "source": [
    "print(\"************** Menu Sistema ************\\n\")\n",
    "print(\"¨**************Zoologicos***************\\n\")\n",
    "print(\"Seleccione el ID del Zoologico a consultar \\n\")\n",
    "\n",
    "query_zoo = \"SELECT ID_ZOOLOGICO, NOMBRE_ZOOLOGICO FROM ZOOLOGICO\"\n",
    "\n",
    "zoo = pd.read_sql_query(query_zoo, conexion)\n",
    "print(zoo)\n",
    "id_zoo = int(input(\"Ingrese ID de Zoologico\"))\n",
    "\n",
    "#resgtringir el igreso solo a numeros y no a letras ni puntos ni comas ... etc.\n",
    "#isdigit()\n",
    "\n",
    "print(f\"{id_zoo}\")\n",
    "\n",
    "query_zoo= f\"SELECT COUNT() FROM ZOOLOGICO WHERE ID_ZOOLOGICO = {id_zoo}\"\n",
    "\n",
    "consuzoo = pd.read_sql_query(query_zoo, conexion)\n",
    "# consuzzo.iloc[x][x], se utiliza para usar el dato que existe en esa pocision del df, en este caso es para utilizar\n",
    "# el resultado de la consulta SQL\n",
    "idzoo = consuzoo.iloc[0][0]\n",
    "index1 = 0\n",
    "if(idzoo == 1):\n",
    "    query_zoo = f\"SELECT NOMBRE_ZOOLOGICO FROM ZOOLOGICO WHERE ID_ZOOLOGICO ={id_zoo}\"\n",
    "    consuzoo=pd.read_sql_query(query_zoo,conexion)\n",
    "    nombre_zoo = consuzoo.iloc[0][0]\n",
    "    while(index1 == 0):\n",
    "        print(\"********************************\")\n",
    "        print(f\"SISTEMA ZOOLOGICO {nombre_zoo}\")\n",
    "        #exportar los dataframe a excel\n",
    "        \n",
    "        print(\"1.- Datos del Zoologico \")#Nombre , Ciudad, Pais, Encargado, cantidad de animales\n",
    "        print(\"2.- Animales de Zoologico\") # id_animal, nombre, nombrecientifico y sexo.\n",
    "        opcion = int(input(\"Seleccione un opcion\"))\n",
    "        \n",
    "        \n",
    "        if(opcion == 1):\n",
    "                print(\"**** DATOS DEL ZOOLOGICO ****\")\n",
    "                query_zoo = f\" SELECT NOMBRE_ZOOLOGICO as ZOOLOGICO, CIUDAD.NOMBRE_CIUDAD AS CIUDAD, PAIS.NOMBRE_PAIS AS PAIS, ENCARGADO.NOMBRE_ENCARGADO || ' ' || ENCARGADO.APELLIDO_ENCARGADO AS ENCARGADO, (SELECT COUNT() FROM ANIMAL WHERE ID_ZOOLOGICO  = 1006) as CANTIDAD_ANIMALES from ZOOLOGICO  join CIUDAD on CIUDAD.ID_CIUDAD = ZOOLOGICO.ID_CIUDAD JOIN PAIS ON CIUDAD.ID_PAIS = PAIS.ID_PAIS JOIN ENCARGADO ON ENCARGADO.RUT_ENCARGADO = ZOOLOGICO.RUT_ENCARGADO  WHERE ID_ZOOLOGICO = {id_zoo}\"\n",
    "                consuzoo=pd.read_sql_query(query_zoo,conexion) \n",
    "                print(consuzoo)\n",
    "                \n",
    "                print(\"*** DESEA EXPORTAR A EXCEL ***\")\n",
    "                print(\"1.- SI\")\n",
    "                print(\"2.- NO\")\n",
    "                \n",
    "                op = int(input(\"Ingrese una opcion\"))\n",
    "                if(op ==1):\n",
    "                        print(\"Vamos a exportar a excel\")\n",
    "                        consuzoo.to_excel(\"datos_zoologico.xlsx\")         \n",
    "                elif (op == 2):\n",
    "                        \n",
    "                        print(\"****Salir*****\")\n",
    "                elif(op != 1 or op != 2):\n",
    "                        print(\"La opcion ingresada no existe\\n *** SALIR DEL SISTEMA***\")\n",
    "                index1=index1+1   \n",
    "                \n",
    "                \n",
    "                \n",
    "        elif(opcion == 2):\n",
    "                print(f\"DATOS DE ANIMALES {nombre_zoo} \")\n",
    "                query_zoo= f\"SELECT N_IDENTIFICACION AS ID, NOMBRE_ANIMAL AS NOMBRE, NOMBRE_CIENTIFICO, SEXO_ANIMAL AS SEXO  FROM ANIMAL WHERE ID_ZOOLOGICO ={id_zoo}\"\n",
    "                consuzoo=pd.read_sql_query(query_zoo,conexion) \n",
    "                print(consuzoo)\n",
    "                \n",
    "                print(\"*** DESEA EXPORTAR A EXCEL ***\")\n",
    "                print(\"1.- SI\")\n",
    "                print(\"2.- NO\")\n",
    "                \n",
    "                op = int(input(\"Ingrese una opcion\"))\n",
    "                if(op ==1):\n",
    "                        print(\"Vamos a exportar a excel\")\n",
    "                        consuzoo.to_excel(\"datos_animales_zoologico.xlsx\")         \n",
    "                elif (op == 2):\n",
    "                        \n",
    "                        print(\"****Salir*****\")\n",
    "                elif(op != 1 or op != 2):\n",
    "                        print(\"La opcion ingresada no existe\\n *** SALIR DEL SISTEMA***\")\n",
    "                index1=index1+1\n",
    "        \n",
    "        else:\n",
    "                print(\"No existe esa opcion\")\n",
    "                index1 = 0 \n",
    "        print(\"********************************\")\n",
    "\n",
    "else:\n",
    "        print(\"El id es incorrecto\")\n",
    "\n",
    "\n"
   ]
  }
 ],
 "metadata": {
  "kernelspec": {
   "display_name": "Python 3 (ipykernel)",
   "language": "python",
   "name": "python3"
  },
  "language_info": {
   "codemirror_mode": {
    "name": "ipython",
    "version": 3
   },
   "file_extension": ".py",
   "mimetype": "text/x-python",
   "name": "python",
   "nbconvert_exporter": "python",
   "pygments_lexer": "ipython3",
   "version": "3.11.4"
  }
 },
 "nbformat": 4,
 "nbformat_minor": 2
}
